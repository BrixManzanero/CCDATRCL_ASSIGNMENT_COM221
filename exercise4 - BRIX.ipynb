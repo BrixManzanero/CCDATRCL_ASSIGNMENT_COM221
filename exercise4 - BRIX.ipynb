{
  "cells": [
    {
      "cell_type": "markdown",
      "metadata": {
        "id": "fCO3VeNzvGDc"
      },
      "source": [
        "# Exercise 4"
      ]
    },
    {
      "cell_type": "markdown",
      "metadata": {
        "id": "UCFGr2qPKONg"
      },
      "source": [
        "#### Pre-defined sorting algorithms"
      ]
    },
    {
      "cell_type": "code",
      "execution_count": 192,
      "metadata": {
        "id": "dXWXOLWtKONg"
      },
      "outputs": [],
      "source": [
        "def mergeSort(array):\n",
        "    global merge_sort_num_steps\n",
        "    if len(array) > 1:\n",
        "        #  r is the point where the array is divided into two subarrays\n",
        "        r = len(array) // 2\n",
        "        L = array[:r]\n",
        "        M = array[r:]\n",
        "\n",
        "        # Sort the two halves\n",
        "        mergeSort(L)\n",
        "        mergeSort(M)\n",
        "\n",
        "        i = j = k = 0\n",
        "\n",
        "        # Until we reach either end of either L or M, pick larger among\n",
        "        # elements L and M and place them in the correct position at A[p..r]\n",
        "        while i < len(L) and j < len(M):\n",
        "            merge_sort_num_steps += 1\n",
        "            if L[i] < M[j]:\n",
        "                array[k] = L[i]\n",
        "                i += 1\n",
        "            else:\n",
        "                array[k] = M[j]\n",
        "                j += 1\n",
        "            k += 1\n",
        "\n",
        "        # When we run out of elements in either L or M,\n",
        "        # pick up the remaining elements and put in A[p..r]\n",
        "        while i < len(L):\n",
        "            merge_sort_num_steps += 1\n",
        "            array[k] = L[i]\n",
        "            i += 1\n",
        "            k += 1\n",
        "\n",
        "        while j < len(M):\n",
        "            merge_sort_num_steps += 1\n",
        "            array[k] = M[j]\n",
        "            j += 1\n",
        "            k += 1\n",
        "            \n",
        "# Print the array\n",
        "def printList(array):\n",
        "    for i in range(len(array)):\n",
        "        print(array[i], end=\" \")\n",
        "    print()"
      ]
    },
    {
      "cell_type": "code",
      "execution_count": 193,
      "metadata": {
        "id": "OB-JMVxvKONi"
      },
      "outputs": [],
      "source": [
        "def countingSort(array):\n",
        "    global counting_sort_num_steps\n",
        "    size = len(array)\n",
        "    min_value = min(array)\n",
        "    max_value = max(array)\n",
        "    range_size = max_value - min_value + 1  # Calculate the range of values\n",
        "\n",
        "    output = [0] * size\n",
        "    count = [0] * range_size  # Initialize count array\n",
        "\n",
        "    # Store the count of each element in the count array\n",
        "    for i in range(0, size):\n",
        "        counting_sort_num_steps += 1\n",
        "        count[array[i] - min_value] += 1\n",
        "\n",
        "    # Store the cumulative count\n",
        "    for i in range(1, range_size):\n",
        "        count[i] += count[i - 1]\n",
        "\n",
        "    # Find the index of each element of the original array in count array\n",
        "    # place the elements in output array\n",
        "    i = size - 1\n",
        "    while i >= 0:\n",
        "        counting_sort_num_steps += 1\n",
        "        output[count[array[i] - min_value] - 1] = array[i]\n",
        "        count[array[i] - min_value] -= 1\n",
        "        i -= 1\n",
        "\n",
        "    for i in range(0, size):\n",
        "        array[i] = output[i]"
      ]
    },
    {
      "cell_type": "code",
      "execution_count": 194,
      "metadata": {},
      "outputs": [],
      "source": [
        "def bubble_sort(arr):\n",
        "    n = len(arr)\n",
        "    swaps = 0\n",
        "    \n",
        "    for i in range(n):\n",
        "        swapped = False\n",
        "        \n",
        "        for j in range(0, n-i-1):\n",
        "            if arr[j] > arr[j+1]:\n",
        "                # Swap arr[j] and arr[j+1]\n",
        "                arr[j], arr[j+1] = arr[j+1], arr[j]\n",
        "                swaps += 1\n",
        "                swapped = True\n",
        "        \n",
        "        if not swapped:\n",
        "            break\n",
        "    \n",
        "    return swaps"
      ]
    },
    {
      "cell_type": "code",
      "execution_count": 195,
      "metadata": {
        "id": "VXaukk4_KONj"
      },
      "outputs": [],
      "source": [
        "def insertionSort(array):\n",
        "    # Initialize a counter variable\n",
        "    steps = 0\n",
        "\n",
        "    for step in range(1, len(array)):\n",
        "        key = array[step]\n",
        "        j = step - 1\n",
        "        \n",
        "        # Compare key with each element on the left of it until an element smaller than it is found\n",
        "        # For descending order, change key < array[j] to key > array[j].\n",
        "        while j >= 0 and key < array[j]:\n",
        "            # Increment the step count for each comparison\n",
        "            steps += 1\n",
        "            array[j + 1] = array[j]\n",
        "            j = j - 1\n",
        "        # Place key at after the element just smaller than it.\n",
        "        array[j + 1] = key\n",
        "\n",
        "    return steps"
      ]
    },
    {
      "cell_type": "code",
      "execution_count": 196,
      "metadata": {},
      "outputs": [],
      "source": [
        "def bubbleSort(array):\n",
        "    # Initialize a variable to count the swaps\n",
        "    swap_count = 0\n",
        "\n",
        "    # loop to access each array element\n",
        "    for i in range(len(array)):\n",
        "        # loop to compare array elements\n",
        "        for j in range(0, len(array) - i - 1):\n",
        "            # compare two adjacent elements\n",
        "            # change > to < to sort in descending order\n",
        "            if array[j] > array[j + 1]:\n",
        "                # Swap elements if they are not in the intended order\n",
        "                temp = array[j]\n",
        "                array[j] = array[j+1]\n",
        "                array[j+1] = temp\n",
        "                # Increment the swap count\n",
        "                swap_count += 1\n",
        "\n",
        "    return swap_count"
      ]
    },
    {
      "cell_type": "markdown",
      "metadata": {
        "id": "6j9PZVsyvGDe"
      },
      "source": [
        "#### 1. Sort your **student number** in **ascending order**\n",
        "\n",
        "Example:\n",
        "\n",
        "**Input: 2022123456**\n",
        "\n",
        "**Output: 0122223456**"
      ]
    },
    {
      "cell_type": "code",
      "execution_count": 197,
      "metadata": {
        "id": "UuNMRCm3vGDe"
      },
      "outputs": [],
      "source": [
        "# put your answer here\n",
        "student_number = \"20221032567\"\n"
      ]
    },
    {
      "cell_type": "code",
      "execution_count": 198,
      "metadata": {},
      "outputs": [],
      "source": [
        "num_list = list(student_number)"
      ]
    },
    {
      "cell_type": "code",
      "execution_count": 199,
      "metadata": {},
      "outputs": [],
      "source": [
        "sorted_digits = sorted(num_list)"
      ]
    },
    {
      "cell_type": "code",
      "execution_count": 200,
      "metadata": {},
      "outputs": [
        {
          "name": "stdout",
          "output_type": "stream",
          "text": [
            "0 0 1 2 2 2 2 3 5 6 7\n"
          ]
        }
      ],
      "source": [
        "sorted_student_number = \" \".join(sorted_digits)\n",
        "print(sorted_student_number)"
      ]
    },
    {
      "cell_type": "markdown",
      "metadata": {
        "id": "felukBjnvGDf"
      },
      "source": [
        "#### 2. Sort the **dates** in **ascending order**.\n",
        "\n",
        "dates = [\"12-25-2023\", birthday, \"01-01-2023\"]\n",
        "\n",
        "Enter your birthday in the birthday variable."
      ]
    },
    {
      "cell_type": "code",
      "execution_count": 201,
      "metadata": {
        "id": "f8xQ3N0jvGDg"
      },
      "outputs": [],
      "source": [
        "# put your answer here\n",
        "\n",
        "# Your birthday should be in mm-dd-yyyy\n",
        "birthday = \"10-16-2000\"\n",
        "\n",
        "dates = [\"12-25-2023\", birthday, \"01-01-2023\"]"
      ]
    },
    {
      "cell_type": "code",
      "execution_count": 202,
      "metadata": {},
      "outputs": [],
      "source": [
        "sorted_dates = sorted(dates)"
      ]
    },
    {
      "cell_type": "code",
      "execution_count": 203,
      "metadata": {},
      "outputs": [
        {
          "name": "stdout",
          "output_type": "stream",
          "text": [
            "01-01-2023\n",
            "10-16-2000\n",
            "12-25-2023\n"
          ]
        }
      ],
      "source": [
        "for date in sorted_dates:\n",
        "    print(date)"
      ]
    },
    {
      "cell_type": "markdown",
      "metadata": {
        "id": "IFDPeGZxvGDg"
      },
      "source": [
        "#### 3. Count the **total number of swaps** to sort the list below using **Bubble Sort**\n",
        "\n",
        "|3|2|5|1|4|\n",
        "|---|----|---|---|---|"
      ]
    },
    {
      "cell_type": "code",
      "execution_count": 204,
      "metadata": {
        "id": "b1ppwLcevGDg",
        "outputId": "b38a47a6-764e-48c4-9612-2278fb72422a"
      },
      "outputs": [],
      "source": [
        "# put your answer here\n",
        "Num = [3, 2, 5, 1, 4]\n"
      ]
    },
    {
      "cell_type": "code",
      "execution_count": 205,
      "metadata": {},
      "outputs": [],
      "source": [
        "total_swaps = bubble_sort(Num)\n"
      ]
    },
    {
      "cell_type": "code",
      "execution_count": 206,
      "metadata": {},
      "outputs": [
        {
          "name": "stdout",
          "output_type": "stream",
          "text": [
            "Sorted List: [1, 2, 3, 4, 5]\n",
            "Total Swaps: 5\n"
          ]
        }
      ],
      "source": [
        "print(\"Sorted List:\", Num)\n",
        "print(\"Total Swaps:\", total_swaps)"
      ]
    },
    {
      "cell_type": "markdown",
      "metadata": {
        "id": "iO2UusQWvGDi"
      },
      "source": [
        "#### 4. Count the **total number of steps** to sort the list below using **Insertion Sort**\n",
        "\n",
        "\n",
        "|6|2|5|7|4|1|8|9|3|\n",
        "|---|---|---|---|---|---|---|---|---|"
      ]
    },
    {
      "cell_type": "code",
      "execution_count": 207,
      "metadata": {
        "id": "vq1PYEjmvGDi",
        "outputId": "144516ac-ce19-470c-a41e-bd1b04da5dbe"
      },
      "outputs": [],
      "source": [
        "# put your answer here\n",
        "numberofsteps = [6, 2, 5, 7, 4, 1, 8, 9, 3]\n"
      ]
    },
    {
      "cell_type": "code",
      "execution_count": 208,
      "metadata": {},
      "outputs": [],
      "source": [
        "total_steps = insertionSort(numberofsteps)"
      ]
    },
    {
      "cell_type": "code",
      "execution_count": 209,
      "metadata": {},
      "outputs": [
        {
          "name": "stdout",
          "output_type": "stream",
          "text": [
            "Total number of steps =  16\n"
          ]
        }
      ],
      "source": [
        "print(\"Total number of steps = \", total_steps)"
      ]
    },
    {
      "cell_type": "markdown",
      "metadata": {
        "id": "jpfNCCdbvGDj"
      },
      "source": [
        "#### 5. Given the list below:\n",
        "\n",
        "\n",
        "|7|5|4|3|2|5|1|8|\n",
        "|---|---|---|---|---|---|---|---|\n",
        "\n",
        "Using **merge sort** and **counting sort**\n",
        "\n",
        "Determine which sorting algorithm is faster by counting the total number of steps for each algorithm\n"
      ]
    },
    {
      "cell_type": "code",
      "execution_count": 210,
      "metadata": {},
      "outputs": [
        {
          "name": "stdout",
          "output_type": "stream",
          "text": [
            "Merge Sort Sorted List: [77, 55, 24, 63, 22, 5, 47, 18]\n",
            "Counting Sort Sorted List: [5, 18, 22, 24, 47, 55, 63, 77]\n",
            "Counting sort is faster\n",
            "Merge Sort Total Steps: 24\n",
            "Counting Sort Total Steps: 16\n"
          ]
        }
      ],
      "source": [
        "# put your answer here\n",
        "my_list = [77, 55, 24, 63, 22, 5, 47, 18]\n",
        "\n",
        "merge_sort_num_steps = 0\n",
        "counting_sort_num_steps = 0\n",
        "\n",
        "mergeSort(my_list.copy())\n",
        "print(\"Merge Sort Sorted List:\", my_list)\n",
        "\n",
        "counting_sort_list = my_list.copy()\n",
        "\n",
        "countingSort(counting_sort_list)\n",
        "print(\"Counting Sort Sorted List:\", counting_sort_list)\n",
        "\n",
        "if merge_sort_num_steps < counting_sort_num_steps:\n",
        "    print(\"Merge sort is faster\")\n",
        "else:\n",
        "    print(\"Counting sort is faster\")\n",
        "\n",
        "print(\"Merge Sort Total Steps:\", merge_sort_num_steps)\n",
        "print(\"Counting Sort Total Steps:\", counting_sort_num_steps)"
      ]
    }
  ],
  "metadata": {
    "colab": {
      "provenance": []
    },
    "kernelspec": {
      "display_name": "Python 3",
      "language": "python",
      "name": "python3"
    },
    "language_info": {
      "codemirror_mode": {
        "name": "ipython",
        "version": 3
      },
      "file_extension": ".py",
      "mimetype": "text/x-python",
      "name": "python",
      "nbconvert_exporter": "python",
      "pygments_lexer": "ipython3",
      "version": "3.11.4"
    },
    "orig_nbformat": 4
  },
  "nbformat": 4,
  "nbformat_minor": 0
}
